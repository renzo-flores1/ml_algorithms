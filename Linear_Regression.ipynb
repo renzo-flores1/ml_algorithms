{
  "nbformat": 4,
  "nbformat_minor": 0,
  "metadata": {
    "colab": {
      "name": "Linear_Regression.ipynb",
      "provenance": [],
      "collapsed_sections": []
    },
    "kernelspec": {
      "name": "ir",
      "display_name": "R"
    }
  },
  "cells": [
    {
      "cell_type": "markdown",
      "metadata": {
        "id": "TTsZGKUz7XiV",
        "colab_type": "text"
      },
      "source": [
        "# Linear Regression\n",
        "\n",
        "## 1. The `cars` dataset\n",
        "\n",
        "In this notebook, I will show you how to implement linear regression in `R`. We will be using the `cars` dataset, which has two variables: `speed` (the speed of the car in mph) and `dist` (its stopping distance in ft). There is no need to load the data, as it is already comes in with `R`. Calling `cars` would output a dataframe. In this notebook, we will regress `dist` on `speed`, because it makes sense that the stopping distance of a car depends on its speed and not the other way around. \n",
        "\n",
        "## 2. Training and Testing Sets\n",
        "\n",
        "As with any other machine learning practice, we first split the data into a training set and a testing set. For this demonstration, we remove 10% of the data randomly and make that as our test set."
      ]
    },
    {
      "cell_type": "code",
      "metadata": {
        "id": "sfJD8wjaKHaE",
        "colab_type": "code",
        "colab": {}
      },
      "source": [
        "# sample size for test set\n",
        "test_size = floor(0.10 * nrow(cars))\n",
        "\n",
        "set.seed(50)\n",
        "test_ind <- sample(seq_len(nrow(cars)), size = test_size)\n",
        "\n",
        "train <- cars[-test_ind,]\n",
        "test <- cars[test_ind,]"
      ],
      "execution_count": 6,
      "outputs": []
    },
    {
      "cell_type": "markdown",
      "metadata": {
        "id": "4WwgAEZkK6Y-",
        "colab_type": "text"
      },
      "source": [
        "## 2. Exploratory Data Analysis\n",
        "It is best practice to look at the data first before performing any analysis on it. So we first plot the (training) data."
      ]
    },
    {
      "cell_type": "code",
      "metadata": {
        "id": "Axr7ImFKR7Rn",
        "colab_type": "code",
        "colab": {
          "base_uri": "https://localhost:8080/",
          "height": 488
        },
        "outputId": "43724b7e-5e98-4238-c968-2b9ae97d6152"
      },
      "source": [
        "# install qqplot extensions\n",
        "install.packages(\"qqplotr\")\n",
        "\n",
        "library(ggplot2)  # plotting library\n",
        "library(qqplotr)  # qqplot extensions for ggplot\n",
        "\n",
        "# scatterplot\n",
        "ggplot(train, aes(x=speed, y=dist)) + geom_point() + \n",
        "      theme(text = element_text(size=20)) + \n",
        "      theme(plot.margin = unit(c(1,1,1,1), \"cm\"))"
      ],
      "execution_count": 7,
      "outputs": [
        {
          "output_type": "stream",
          "text": [
            "Installing package into ‘/usr/local/lib/R/site-library’\n",
            "(as ‘lib’ is unspecified)\n",
            "\n"
          ],
          "name": "stderr"
        },
        {
          "output_type": "display_data",
          "data": {
            "image/png": "[encoded data removed]",
            "text/plain": [
              "plot without title"
            ]
          },
          "metadata": {
            "tags": [],
            "image/png": {
              "width": 420,
              "height": 420
            },
            "text/plain": {
              "width": 420,
              "height": 420
            }
          }
        }
      ]
    },
    {
      "cell_type": "markdown",
      "metadata": {
        "id": "O6HA3fKvU4OG",
        "colab_type": "text"
      },
      "source": [
        "So, based from the graph, it can be possible that there is a linear trend between `speed` and `dist`. Moreover, it seems like there is an outlier, whose `dist` value is roughly equal to 125. Since we do not have enough background knowledge on cars, we will just leave the outlier in the data. \n",
        "\n",
        "## Regression Analysis\n",
        "\n",
        "Performing regression on the `cars` dataset could not be any simpler on `R`. It can be done using the `lm` command. In this case, we type `model <- lm(dist~speed, data=cars)`. Then, typing `summary(model)` should give us a quick summary of the regression analysis."
      ]
    },
    {
      "cell_type": "code",
      "metadata": {
        "id": "D9WYVHzLVye4",
        "colab_type": "code",
        "colab": {
          "base_uri": "https://localhost:8080/",
          "height": 323
        },
        "outputId": "a2aa7123-036b-45c2-c024-51e72d408248"
      },
      "source": [
        "# fit a linear model\n",
        "model <- lm(dist ~ speed, data=train)\n",
        "summary(model)"
      ],
      "execution_count": 8,
      "outputs": [
        {
          "output_type": "display_data",
          "data": {
            "text/plain": [
              "\n",
              "Call:\n",
              "lm(formula = dist ~ speed, data = train)\n",
              "\n",
              "Residuals:\n",
              "    Min      1Q  Median      3Q     Max \n",
              "-28.127 -10.306  -3.914  11.013  44.588 \n",
              "\n",
              "Coefficients:\n",
              "            Estimate Std. Error t value Pr(>|t|)    \n",
              "(Intercept) -16.2986     7.5706  -2.153    0.037 *  \n",
              "speed         3.8213     0.4833   7.906 6.44e-10 ***\n",
              "---\n",
              "Signif. codes:  0 ‘***’ 0.001 ‘**’ 0.01 ‘*’ 0.05 ‘.’ 0.1 ‘ ’ 1\n",
              "\n",
              "Residual standard error: 15.99 on 43 degrees of freedom\n",
              "Multiple R-squared:  0.5925,\tAdjusted R-squared:  0.583 \n",
              "F-statistic: 62.51 on 1 and 43 DF,  p-value: 6.437e-10\n"
            ]
          },
          "metadata": {
            "tags": []
          }
        }
      ]
    },
    {
      "cell_type": "markdown",
      "metadata": {
        "id": "HdU55kXrXeVf",
        "colab_type": "text"
      },
      "source": [
        "## Confidence Intervals\n",
        "\n",
        "Clearly, the best estimates for the parameters are $\\widehat{\\beta}_0 = -16.2896$ and $\\widehat{\\beta}_1 = 3.8213$. For the confidence intervals of these parameters, we can use the `confint` command."
      ]
    },
    {
      "cell_type": "code",
      "metadata": {
        "id": "tXvvvTu2XEmL",
        "colab_type": "code",
        "colab": {
          "base_uri": "https://localhost:8080/",
          "height": 99
        },
        "outputId": "59c25475-40dd-4d4d-a89e-dded159b8288"
      },
      "source": [
        "confint(model, level=0.95)"
      ],
      "execution_count": 9,
      "outputs": [
        {
          "output_type": "display_data",
          "data": {
            "text/plain": [
              "            2.5 %      97.5 %   \n",
              "(Intercept) -31.566215 -1.030977\n",
              "speed         2.846575  4.795986"
            ],
            "text/latex": "A matrix: 2 × 2 of type dbl\n\\begin{tabular}{r|ll}\n  & 2.5 \\% & 97.5 \\%\\\\\n\\hline\n\t(Intercept) & -31.566215 & -1.030977\\\\\n\tspeed &   2.846575 &  4.795986\\\\\n\\end{tabular}\n",
            "text/markdown": "\nA matrix: 2 × 2 of type dbl\n\n| <!--/--> | 2.5 % | 97.5 % |\n|---|---|---|\n| (Intercept) | -31.566215 | -1.030977 |\n| speed |   2.846575 |  4.795986 |\n\n",
            "text/html": [
              "<table>\n",
              "<caption>A matrix: 2 × 2 of type dbl</caption>\n",
              "<thead>\n",
              "\t<tr><th></th><th scope=col>2.5 %</th><th scope=col>97.5 %</th></tr>\n",
              "</thead>\n",
              "<tbody>\n",
              "\t<tr><th scope=row>(Intercept)</th><td>-31.566215</td><td>-1.030977</td></tr>\n",
              "\t<tr><th scope=row>speed</th><td>  2.846575</td><td> 4.795986</td></tr>\n",
              "</tbody>\n",
              "</table>\n"
            ]
          },
          "metadata": {
            "tags": []
          }
        }
      ]
    },
    {
      "cell_type": "markdown",
      "metadata": {
        "id": "SlQm63pBYJFd",
        "colab_type": "text"
      },
      "source": [
        "Thus we see that the 95% confidence interval for $\\beta_0$ is $(-31.5662, -1.0310)$ and for $\\beta_1$, its $(2.8466, 4.7960)$. \n",
        "\n",
        "\n",
        "## Hypothesis Testing\n",
        "\n",
        "We also could test whether the parameters are significant. We can try and test whether the slope coefficient is significant by testing the hypotheses:\n",
        "\n",
        "$$\n",
        "\\begin{align*}\n",
        "&H_0: \\beta_1 = 0 \\\\\n",
        "&H_{\\text{a}}: \\beta_1 \\ne 0\\;.\n",
        "\\end{align*}\n",
        "$$\n",
        "\n",
        "If you're performing the test at say 95\\% confidence, you simply have to look at the `Pr(>|t|)` column in the summary (also known as the $p$-value). For the slope, the $p$-value for the speed is $6.44 \\times 10^{-10}$, which is way smaller than the significance level $0.05$. Thus, we reject the null hypothesis and conclude that the slope coefficient is nonzero at 95\\% confidence.\n",
        "\n",
        "\n",
        "## Diagnostic Plots\n",
        "\n",
        "Now linear regression comes with four assumptions: normality, independence, heteroscedasticity, and linearity.\n",
        "\n",
        "The *linearity assumption* tells us that the dependent variable is lienarly related to the parameters, and from the plot earlier, we see that this assumption could be possible.\n",
        "\n",
        "The *normality assumption* on the other hand, tells us that the dependent variable $Y$ can be described as\n",
        "\n",
        "$$\n",
        "Y = \\widehat{\\beta}_0 + \\widehat{\\beta}_1x_1 + \\ldots\n",
        "+ \\widehat{\\beta}_nx_n +\\varepsilon \n",
        "$$\n",
        "\n",
        "where $\\varepsilon$ is a random variable normally distributed with mean $0$ and variance $\\sigma^2$. The short-hand notation for this is $\\varepsilon \\sim \\mathcal{N}(0, \\sigma^2)$. \n",
        "\n",
        "Since we don't exactly know the values of the residuals $\\varepsilon$, we can use an estimate instead. A suitable estimator is the residual $\\widehat{\\varepsilon}$, where\n",
        "\n",
        "$$\n",
        "\\widehat{\\varepsilon} = y - \\widehat{y},\n",
        "$$\n",
        "\n",
        "with $y$ being the true value, and $\\widehat{y}$ being the predicted value. To test whether the error is normally distributed, we have to plot the residuals in a probability plot shown below."
      ]
    },
    {
      "cell_type": "code",
      "metadata": {
        "id": "6_RveOzaEabb",
        "colab_type": "code",
        "colab": {
          "base_uri": "https://localhost:8080/",
          "height": 437
        },
        "outputId": "bc4955ae-82f8-483e-9415-0d8a3e0bb997"
      },
      "source": [
        "ggplot(mapping = aes(sample = model$residuals)) + \n",
        "           stat_qq_band() + \n",
        "           stat_qq_line() + \n",
        "           stat_qq_point() +\n",
        "           ggtitle(\"Normal Probability Plot\") +\n",
        "           xlab(\"Residual\") +\n",
        "           ylab(\"Percent\") +\n",
        "           theme(text = element_text(size=20)) + \n",
        "           theme(plot.margin = unit(c(1,1,1,1), \"cm\"))"
      ],
      "execution_count": 10,
      "outputs": [
        {
          "output_type": "display_data",
          "data": {
            "image/png": "[encoded data removed]",
            "text/plain": [
              "plot without title"
            ]
          },
          "metadata": {
            "tags": [],
            "image/png": {
              "width": 420,
              "height": 420
            },
            "text/plain": {
              "width": 420,
              "height": 420
            }
          }
        }
      ]
    },
    {
      "cell_type": "markdown",
      "metadata": {
        "id": "v1FyPxGgFfnq",
        "colab_type": "text"
      },
      "source": [
        "The idea of a normal probability plot is that if the residuals follow the line closely, then we can safely assume that the error is normally distributed. If you want to be more rigorous, then if the residuals lie inside the 95% confidence band (shaded in gray), we can safely assume that the residuals are normally distributed. \n",
        "\n",
        "In the plot above, we see that one residual is outside the confidence band, but the rest are inside, so we can safely assume that $\\varepsilon$ is normally distributed.\n",
        "\n",
        "> ## Caution\n",
        "  The quantile-quantile plot is certainly subject to interpretation. While we did assume that the distribution is normal, others could argue that its not as the residuals curve upward, indicating that the distribution is right-skewed and not normal. (Normal distributions are symmetric and not skewed.) \n",
        "\n",
        "\n",
        "Now to check *heteroscedasticity assumption* means that we should check whether the variance $\\sigma^2$ is fixed. Recall that this variance appears in the distribution of $\\varepsilon$, where $\\varepsilon \\sim \\mathcal{N}(0,\\sigma^2)$."
      ]
    }
  ]
}