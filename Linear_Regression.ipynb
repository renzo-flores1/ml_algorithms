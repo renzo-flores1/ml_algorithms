{
  "nbformat": 4,
  "nbformat_minor": 0,
  "metadata": {
    "colab": {
      "name": "Linear_Regression.ipynb",
      "provenance": [],
      "collapsed_sections": [],
      "authorship_tag": "ABX9TyNXdsi3yBVPlG799RKd739n",
      "include_colab_link": true
    },
    "kernelspec": {
      "name": "ir",
      "display_name": "R"
    }
  },
  "cells": [
    {
      "cell_type": "markdown",
      "metadata": {
        "id": "view-in-github",
        "colab_type": "text"
      },
      "source": [
        "<a href=\"https://colab.research.google.com/github/renzo-flores1/ml_algorithms/blob/master/Linear_Regression.ipynb\" target=\"_parent\"><img src=\"https://colab.research.google.com/assets/colab-badge.svg\" alt=\"Open In Colab\"/></a>"
      ]
    },
    {
      "cell_type": "markdown",
      "metadata": {
        "id": "TTsZGKUz7XiV",
        "colab_type": "text"
      },
      "source": [
        "# Linear Regression\n",
        "\n",
        "## 1. The `cars` dataset\n",
        "\n",
        "In this notebook, I will show you how to implement linear regression in `R`. We will be using the `cars` dataset, which has two variables: `speed` (the speed of the car in mph) and `dist` (its stopping distance in ft). There is no need to load the data, as it is already comes in with `R`. Calling `cars` would output a dataframe. In this notebook, we will regress `dist` on `speed`, because it makes sense that the stopping distance of a car depends on its speed and not the other way around. \n",
        "\n",
        "## 2. Exploratory Data Analysis\n",
        "It is best practice to look at the data first before performing any analysis on it. So we first plot the data."
      ]
    },
    {
      "cell_type": "code",
      "metadata": {
        "id": "Axr7ImFKR7Rn",
        "colab_type": "code",
        "colab": {
          "base_uri": "https://localhost:8080/",
          "height": 437
        },
        "outputId": "6e0d78bf-a3b7-492e-ecbe-5456ec2c456b"
      },
      "source": [
        "library(ggplot2)  # plotting library\n",
        "\n",
        "# scatterplot\n",
        "ggplot(cars, aes(x=speed, y=dist)) + geom_point() + \n",
        "      theme(text = element_text(size=20)) + \n",
        "      theme(plot.margin = unit(c(1,1,1,1), \"cm\"))"
      ],
      "execution_count": 1,
      "outputs": [
        {
          "output_type": "display_data",
          "data": {
            "image/png": "[encoded data removed]",
            "text/plain": [
              "plot without title"
            ]
          },
          "metadata": {
            "tags": [],
            "image/png": {
              "width": 420,
              "height": 420
            },
            "text/plain": {
              "width": 420,
              "height": 420
            }
          }
        }
      ]
    },
    {
      "cell_type": "markdown",
      "metadata": {
        "id": "O6HA3fKvU4OG",
        "colab_type": "text"
      },
      "source": [
        "So, based from the graph, it can be possible that there is a linear trend between `speed` and `dist`. Moreover, it seems like there is an outlier, whose `dist` value is roughly equal to 125. Since we do not have enough background knowledge on cars, we will just leave the outlier in the data. \n",
        "\n",
        "## Regression Analysis\n",
        "\n",
        "Performing regression on the `cars` dataset could not be any simpler on `R`. It can be done using the `lm` command. In this case, we type `model <- lm(dist~speed, data=cars)`. Then, typing `summary(model)` should give us a quick summary of the regression analysis."
      ]
    },
    {
      "cell_type": "code",
      "metadata": {
        "id": "D9WYVHzLVye4",
        "colab_type": "code",
        "colab": {
          "base_uri": "https://localhost:8080/",
          "height": 323
        },
        "outputId": "a0dbae62-eeb4-415f-f0f8-44950d71cdf6"
      },
      "source": [
        "# fit a linear model\n",
        "model <- lm(dist ~ speed, data=cars)\n",
        "summary(model)"
      ],
      "execution_count": 2,
      "outputs": [
        {
          "output_type": "display_data",
          "data": {
            "text/plain": [
              "\n",
              "Call:\n",
              "lm(formula = dist ~ speed, data = cars)\n",
              "\n",
              "Residuals:\n",
              "    Min      1Q  Median      3Q     Max \n",
              "-29.069  -9.525  -2.272   9.215  43.201 \n",
              "\n",
              "Coefficients:\n",
              "            Estimate Std. Error t value Pr(>|t|)    \n",
              "(Intercept) -17.5791     6.7584  -2.601   0.0123 *  \n",
              "speed         3.9324     0.4155   9.464 1.49e-12 ***\n",
              "---\n",
              "Signif. codes:  0 ‘***’ 0.001 ‘**’ 0.01 ‘*’ 0.05 ‘.’ 0.1 ‘ ’ 1\n",
              "\n",
              "Residual standard error: 15.38 on 48 degrees of freedom\n",
              "Multiple R-squared:  0.6511,\tAdjusted R-squared:  0.6438 \n",
              "F-statistic: 89.57 on 1 and 48 DF,  p-value: 1.49e-12\n"
            ]
          },
          "metadata": {
            "tags": []
          }
        }
      ]
    },
    {
      "cell_type": "markdown",
      "metadata": {
        "id": "HdU55kXrXeVf",
        "colab_type": "text"
      },
      "source": [
        "## Confidence Intervals\n",
        "\n",
        "Clearly, the best estimates for the parameters are $\\widehat{\\beta}_0 = -17.5791$ and $\\widehat{\\beta}_1 = 3.9324$. For the confidence intervals of these parameters, we can use the `confint` command."
      ]
    },
    {
      "cell_type": "code",
      "metadata": {
        "id": "tXvvvTu2XEmL",
        "colab_type": "code",
        "colab": {
          "base_uri": "https://localhost:8080/",
          "height": 99
        },
        "outputId": "b6d80b29-8a21-4b90-ed44-79690ffa04d3"
      },
      "source": [
        "confint(model, level=0.95)"
      ],
      "execution_count": 3,
      "outputs": [
        {
          "output_type": "display_data",
          "data": {
            "text/plain": [
              "            2.5 %      97.5 %   \n",
              "(Intercept) -31.167850 -3.990340\n",
              "speed         3.096964  4.767853"
            ],
            "text/latex": "A matrix: 2 × 2 of type dbl\n\\begin{tabular}{r|ll}\n  & 2.5 \\% & 97.5 \\%\\\\\n\\hline\n\t(Intercept) & -31.167850 & -3.990340\\\\\n\tspeed &   3.096964 &  4.767853\\\\\n\\end{tabular}\n",
            "text/markdown": "\nA matrix: 2 × 2 of type dbl\n\n| <!--/--> | 2.5 % | 97.5 % |\n|---|---|---|\n| (Intercept) | -31.167850 | -3.990340 |\n| speed |   3.096964 |  4.767853 |\n\n",
            "text/html": [
              "<table>\n",
              "<caption>A matrix: 2 × 2 of type dbl</caption>\n",
              "<thead>\n",
              "\t<tr><th></th><th scope=col>2.5 %</th><th scope=col>97.5 %</th></tr>\n",
              "</thead>\n",
              "<tbody>\n",
              "\t<tr><th scope=row>(Intercept)</th><td>-31.167850</td><td>-3.990340</td></tr>\n",
              "\t<tr><th scope=row>speed</th><td>  3.096964</td><td> 4.767853</td></tr>\n",
              "</tbody>\n",
              "</table>\n"
            ]
          },
          "metadata": {
            "tags": []
          }
        }
      ]
    },
    {
      "cell_type": "markdown",
      "metadata": {
        "id": "SlQm63pBYJFd",
        "colab_type": "text"
      },
      "source": [
        "Thus we see that the confidence interval for $\\beta_0$ is $(-31.1679, -3.9903)$ and for $\\beta_1$, its $(3.097, 4.768)$. \n",
        "\n",
        "\n",
        "## Hypothesis Testing\n",
        "\n",
        "We also could test whether the parameters are significant. We can try and test whether the slope coefficient is significant by testing the hypotheses:\n",
        "\n",
        "$$\n",
        "\\begin{align*}\n",
        "&H_0: \\beta_1 = 0 \\\\\n",
        "&H_{\\text{a}}: \\beta_1 \\ne 0\\;.\n",
        "\\end{align*}\n",
        "$$\n",
        "\n",
        "If you're performing the test at say 95\\% confidence, you simply have to look at the `Pr(>|t|)` column in the summary (also known as the $p$-value). For the slope, the $p$-value for the speed is $1.49 \\times 10^{-12}$, which is way smaller than the significance level $0.05$. Thus, we reject the null hypothesis and conclude that the slope coefficient is nonzero at 95\\% confidence.\n",
        "\n",
        "\n",
        "## Diagnostic Plots\n",
        "\n",
        "Now linear regression comes with four assumptions: normality, independence, heteroscedasticity, and linearity.\n",
        "\n",
        "To check linearity, the best thing you can do is look at the scatterplot and check whether the relationship is linear. We have established earlier that the linearity assumption does not seem to be violated.\n",
        "\n",
        "To test normality, it is best to check the quantile-quantile plot. "
      ]
    }
  ]
}
